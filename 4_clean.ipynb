{
 "cells": [
  {
   "cell_type": "markdown",
   "metadata": {},
   "source": [
    "### DATA CLEANING\n",
    "### isnull() , notnull() , fillna() (0,mean,backpro) ,dropna()"
   ]
  },
  {
   "cell_type": "code",
   "execution_count": 3,
   "metadata": {},
   "outputs": [],
   "source": [
    "import pandas as pd"
   ]
  },
  {
   "cell_type": "code",
   "execution_count": 97,
   "metadata": {},
   "outputs": [
    {
     "data": {
      "text/html": [
       "<div>\n",
       "<style scoped>\n",
       "    .dataframe tbody tr th:only-of-type {\n",
       "        vertical-align: middle;\n",
       "    }\n",
       "\n",
       "    .dataframe tbody tr th {\n",
       "        vertical-align: top;\n",
       "    }\n",
       "\n",
       "    .dataframe thead th {\n",
       "        text-align: right;\n",
       "    }\n",
       "</style>\n",
       "<table border=\"1\" class=\"dataframe\">\n",
       "  <thead>\n",
       "    <tr style=\"text-align: right;\">\n",
       "      <th></th>\n",
       "      <th>Email</th>\n",
       "      <th>Address</th>\n",
       "      <th>Avatar</th>\n",
       "      <th>Avg. Session Length</th>\n",
       "      <th>Time on App</th>\n",
       "      <th>Time on Website</th>\n",
       "      <th>Length of Membership</th>\n",
       "      <th>Yearly Amount Spent</th>\n",
       "    </tr>\n",
       "  </thead>\n",
       "  <tbody>\n",
       "    <tr>\n",
       "      <td>0</td>\n",
       "      <td>mstephenson@fernandez.com</td>\n",
       "      <td>835 Frank Tunnel\\nWrightmouth, MI 82180-9605</td>\n",
       "      <td>Violet</td>\n",
       "      <td>34.497268</td>\n",
       "      <td>12.655651</td>\n",
       "      <td>39.577668</td>\n",
       "      <td>4.082621</td>\n",
       "      <td>587.951054</td>\n",
       "    </tr>\n",
       "    <tr>\n",
       "      <td>1</td>\n",
       "      <td>hduke@hotmail.com</td>\n",
       "      <td>4547 Archer Common\\nDiazchester, CA 06566-8576</td>\n",
       "      <td>DarkGreen</td>\n",
       "      <td>31.926272</td>\n",
       "      <td>11.109461</td>\n",
       "      <td>37.268959</td>\n",
       "      <td>2.664034</td>\n",
       "      <td>392.204933</td>\n",
       "    </tr>\n",
       "    <tr>\n",
       "      <td>2</td>\n",
       "      <td>pallen@yahoo.com</td>\n",
       "      <td>24645 Valerie Unions Suite 582\\nCobbborough, D...</td>\n",
       "      <td>Bisque</td>\n",
       "      <td>33.000915</td>\n",
       "      <td>11.330278</td>\n",
       "      <td>37.110597</td>\n",
       "      <td>4.104543</td>\n",
       "      <td>487.547505</td>\n",
       "    </tr>\n",
       "    <tr>\n",
       "      <td>3</td>\n",
       "      <td>riverarebecca@gmail.com</td>\n",
       "      <td>1414 David Throughway\\nPort Jason, OH 22070-1220</td>\n",
       "      <td>SaddleBrown</td>\n",
       "      <td>34.305557</td>\n",
       "      <td>13.717514</td>\n",
       "      <td>36.721283</td>\n",
       "      <td>3.120179</td>\n",
       "      <td>581.852344</td>\n",
       "    </tr>\n",
       "    <tr>\n",
       "      <td>4</td>\n",
       "      <td>mstephens@davidson-herman.com</td>\n",
       "      <td>14023 Rodriguez Passage\\nPort Jacobville, PR 3...</td>\n",
       "      <td>MediumAquaMarine</td>\n",
       "      <td>33.330673</td>\n",
       "      <td>12.795189</td>\n",
       "      <td>37.536653</td>\n",
       "      <td>4.446308</td>\n",
       "      <td>599.406092</td>\n",
       "    </tr>\n",
       "    <tr>\n",
       "      <td>5</td>\n",
       "      <td>alvareznancy@lucas.biz</td>\n",
       "      <td>645 Martha Park Apt. 611\\nJeffreychester, MN 6...</td>\n",
       "      <td>FloralWhite</td>\n",
       "      <td>33.871038</td>\n",
       "      <td>12.026925</td>\n",
       "      <td>34.476878</td>\n",
       "      <td>5.493507</td>\n",
       "      <td>637.102448</td>\n",
       "    </tr>\n",
       "    <tr>\n",
       "      <td>6</td>\n",
       "      <td>katherine20@yahoo.com</td>\n",
       "      <td>68388 Reyes Lights Suite 692\\nJosephbury, WV 9...</td>\n",
       "      <td>DarkSlateBlue</td>\n",
       "      <td>32.021596</td>\n",
       "      <td>11.366348</td>\n",
       "      <td>36.683776</td>\n",
       "      <td>4.685017</td>\n",
       "      <td>521.572175</td>\n",
       "    </tr>\n",
       "    <tr>\n",
       "      <td>7</td>\n",
       "      <td>awatkins@yahoo.com</td>\n",
       "      <td>Unit 6538 Box 8980\\nDPO AP 09026-4941</td>\n",
       "      <td>Aqua</td>\n",
       "      <td>32.739143</td>\n",
       "      <td>12.351959</td>\n",
       "      <td>37.373359</td>\n",
       "      <td>4.434273</td>\n",
       "      <td>549.904146</td>\n",
       "    </tr>\n",
       "    <tr>\n",
       "      <td>8</td>\n",
       "      <td>vchurch@walter-martinez.com</td>\n",
       "      <td>860 Lee Key\\nWest Debra, SD 97450-0495</td>\n",
       "      <td>Salmon</td>\n",
       "      <td>33.987773</td>\n",
       "      <td>13.386235</td>\n",
       "      <td>37.534497</td>\n",
       "      <td>3.273434</td>\n",
       "      <td>570.200409</td>\n",
       "    </tr>\n",
       "    <tr>\n",
       "      <td>9</td>\n",
       "      <td>bonnie69@lin.biz</td>\n",
       "      <td>PSC 2734, Box 5255\\nAPO AA 98456-7482</td>\n",
       "      <td>Brown</td>\n",
       "      <td>31.936549</td>\n",
       "      <td>11.814128</td>\n",
       "      <td>37.145168</td>\n",
       "      <td>3.202806</td>\n",
       "      <td>427.199385</td>\n",
       "    </tr>\n",
       "  </tbody>\n",
       "</table>\n",
       "</div>"
      ],
      "text/plain": [
       "                           Email  \\\n",
       "0      mstephenson@fernandez.com   \n",
       "1              hduke@hotmail.com   \n",
       "2               pallen@yahoo.com   \n",
       "3        riverarebecca@gmail.com   \n",
       "4  mstephens@davidson-herman.com   \n",
       "5         alvareznancy@lucas.biz   \n",
       "6          katherine20@yahoo.com   \n",
       "7             awatkins@yahoo.com   \n",
       "8    vchurch@walter-martinez.com   \n",
       "9               bonnie69@lin.biz   \n",
       "\n",
       "                                             Address            Avatar  \\\n",
       "0       835 Frank Tunnel\\nWrightmouth, MI 82180-9605            Violet   \n",
       "1     4547 Archer Common\\nDiazchester, CA 06566-8576         DarkGreen   \n",
       "2  24645 Valerie Unions Suite 582\\nCobbborough, D...            Bisque   \n",
       "3   1414 David Throughway\\nPort Jason, OH 22070-1220       SaddleBrown   \n",
       "4  14023 Rodriguez Passage\\nPort Jacobville, PR 3...  MediumAquaMarine   \n",
       "5  645 Martha Park Apt. 611\\nJeffreychester, MN 6...       FloralWhite   \n",
       "6  68388 Reyes Lights Suite 692\\nJosephbury, WV 9...     DarkSlateBlue   \n",
       "7              Unit 6538 Box 8980\\nDPO AP 09026-4941              Aqua   \n",
       "8             860 Lee Key\\nWest Debra, SD 97450-0495            Salmon   \n",
       "9              PSC 2734, Box 5255\\nAPO AA 98456-7482             Brown   \n",
       "\n",
       "   Avg. Session Length  Time on App  Time on Website  Length of Membership  \\\n",
       "0            34.497268    12.655651        39.577668              4.082621   \n",
       "1            31.926272    11.109461        37.268959              2.664034   \n",
       "2            33.000915    11.330278        37.110597              4.104543   \n",
       "3            34.305557    13.717514        36.721283              3.120179   \n",
       "4            33.330673    12.795189        37.536653              4.446308   \n",
       "5            33.871038    12.026925        34.476878              5.493507   \n",
       "6            32.021596    11.366348        36.683776              4.685017   \n",
       "7            32.739143    12.351959        37.373359              4.434273   \n",
       "8            33.987773    13.386235        37.534497              3.273434   \n",
       "9            31.936549    11.814128        37.145168              3.202806   \n",
       "\n",
       "   Yearly Amount Spent  \n",
       "0           587.951054  \n",
       "1           392.204933  \n",
       "2           487.547505  \n",
       "3           581.852344  \n",
       "4           599.406092  \n",
       "5           637.102448  \n",
       "6           521.572175  \n",
       "7           549.904146  \n",
       "8           570.200409  \n",
       "9           427.199385  "
      ]
     },
     "execution_count": 97,
     "metadata": {},
     "output_type": "execute_result"
    }
   ],
   "source": [
    "data = pd.read_csv('Ecommerce Customers')\n",
    "ecom = pd.DataFrame(data)\n",
    "ecom.head(10)"
   ]
  },
  {
   "cell_type": "code",
   "execution_count": 3,
   "metadata": {},
   "outputs": [
    {
     "data": {
      "text/plain": [
       "False    500\n",
       "Name: Yearly Amount Spent, dtype: int64"
      ]
     },
     "execution_count": 3,
     "metadata": {},
     "output_type": "execute_result"
    }
   ],
   "source": [
    "ecom['Yearly Amount Spent'].isnull().value_counts()"
   ]
  },
  {
   "cell_type": "code",
   "execution_count": 4,
   "metadata": {},
   "outputs": [
    {
     "data": {
      "text/html": [
       "<div>\n",
       "<style scoped>\n",
       "    .dataframe tbody tr th:only-of-type {\n",
       "        vertical-align: middle;\n",
       "    }\n",
       "\n",
       "    .dataframe tbody tr th {\n",
       "        vertical-align: top;\n",
       "    }\n",
       "\n",
       "    .dataframe thead th {\n",
       "        text-align: right;\n",
       "    }\n",
       "</style>\n",
       "<table border=\"1\" class=\"dataframe\">\n",
       "  <thead>\n",
       "    <tr style=\"text-align: right;\">\n",
       "      <th></th>\n",
       "      <th>company</th>\n",
       "      <th>emp_name</th>\n",
       "      <th>job</th>\n",
       "      <th>salary</th>\n",
       "    </tr>\n",
       "  </thead>\n",
       "  <tbody>\n",
       "    <tr>\n",
       "      <td>0</td>\n",
       "      <td>persistent</td>\n",
       "      <td>manisha</td>\n",
       "      <td>data engineer</td>\n",
       "      <td>600000.0</td>\n",
       "    </tr>\n",
       "    <tr>\n",
       "      <td>1</td>\n",
       "      <td>teradata</td>\n",
       "      <td>vivek</td>\n",
       "      <td>data analyst</td>\n",
       "      <td>700000.0</td>\n",
       "    </tr>\n",
       "    <tr>\n",
       "      <td>2</td>\n",
       "      <td>infosys</td>\n",
       "      <td>sagar</td>\n",
       "      <td>clerk</td>\n",
       "      <td>NaN</td>\n",
       "    </tr>\n",
       "    <tr>\n",
       "      <td>3</td>\n",
       "      <td>elastic run</td>\n",
       "      <td>meghana</td>\n",
       "      <td>data scientist</td>\n",
       "      <td>800000.0</td>\n",
       "    </tr>\n",
       "    <tr>\n",
       "      <td>4</td>\n",
       "      <td>tech verito</td>\n",
       "      <td>vaibhavi</td>\n",
       "      <td>mbbs</td>\n",
       "      <td>900000.0</td>\n",
       "    </tr>\n",
       "    <tr>\n",
       "      <td>5</td>\n",
       "      <td>tcs</td>\n",
       "      <td>ram</td>\n",
       "      <td>clerk</td>\n",
       "      <td>NaN</td>\n",
       "    </tr>\n",
       "  </tbody>\n",
       "</table>\n",
       "</div>"
      ],
      "text/plain": [
       "       company  emp_name             job    salary\n",
       "0   persistent   manisha   data engineer  600000.0\n",
       "1     teradata     vivek    data analyst  700000.0\n",
       "2      infosys     sagar           clerk       NaN\n",
       "3  elastic run   meghana  data scientist  800000.0\n",
       "4  tech verito  vaibhavi            mbbs  900000.0\n",
       "5          tcs       ram           clerk       NaN"
      ]
     },
     "execution_count": 4,
     "metadata": {},
     "output_type": "execute_result"
    }
   ],
   "source": [
    "data = pd.read_csv('data.csv')\n",
    "employees = pd.DataFrame(data)\n",
    "employees.head(10)"
   ]
  },
  {
   "cell_type": "code",
   "execution_count": 5,
   "metadata": {},
   "outputs": [
    {
     "data": {
      "text/plain": [
       "False    4\n",
       "True     2\n",
       "Name: salary, dtype: int64"
      ]
     },
     "execution_count": 5,
     "metadata": {},
     "output_type": "execute_result"
    }
   ],
   "source": [
    "data['salary'].isnull().value_counts()"
   ]
  },
  {
   "cell_type": "code",
   "execution_count": 6,
   "metadata": {},
   "outputs": [],
   "source": [
    "data = pd.read_csv('data.csv')"
   ]
  },
  {
   "cell_type": "code",
   "execution_count": 7,
   "metadata": {
    "scrolled": true
   },
   "outputs": [
    {
     "data": {
      "text/html": [
       "<div>\n",
       "<style scoped>\n",
       "    .dataframe tbody tr th:only-of-type {\n",
       "        vertical-align: middle;\n",
       "    }\n",
       "\n",
       "    .dataframe tbody tr th {\n",
       "        vertical-align: top;\n",
       "    }\n",
       "\n",
       "    .dataframe thead th {\n",
       "        text-align: right;\n",
       "    }\n",
       "</style>\n",
       "<table border=\"1\" class=\"dataframe\">\n",
       "  <thead>\n",
       "    <tr style=\"text-align: right;\">\n",
       "      <th></th>\n",
       "      <th>company</th>\n",
       "      <th>emp_name</th>\n",
       "      <th>job</th>\n",
       "      <th>salary</th>\n",
       "    </tr>\n",
       "  </thead>\n",
       "  <tbody>\n",
       "    <tr>\n",
       "      <td>0</td>\n",
       "      <td>persistent</td>\n",
       "      <td>manisha</td>\n",
       "      <td>data engineer</td>\n",
       "      <td>600000.0</td>\n",
       "    </tr>\n",
       "    <tr>\n",
       "      <td>1</td>\n",
       "      <td>teradata</td>\n",
       "      <td>vivek</td>\n",
       "      <td>data analyst</td>\n",
       "      <td>700000.0</td>\n",
       "    </tr>\n",
       "    <tr>\n",
       "      <td>2</td>\n",
       "      <td>infosys</td>\n",
       "      <td>sagar</td>\n",
       "      <td>clerk</td>\n",
       "      <td>NaN</td>\n",
       "    </tr>\n",
       "    <tr>\n",
       "      <td>3</td>\n",
       "      <td>elastic run</td>\n",
       "      <td>meghana</td>\n",
       "      <td>data scientist</td>\n",
       "      <td>800000.0</td>\n",
       "    </tr>\n",
       "    <tr>\n",
       "      <td>4</td>\n",
       "      <td>tech verito</td>\n",
       "      <td>vaibhavi</td>\n",
       "      <td>mbbs</td>\n",
       "      <td>900000.0</td>\n",
       "    </tr>\n",
       "    <tr>\n",
       "      <td>5</td>\n",
       "      <td>tcs</td>\n",
       "      <td>ram</td>\n",
       "      <td>clerk</td>\n",
       "      <td>NaN</td>\n",
       "    </tr>\n",
       "  </tbody>\n",
       "</table>\n",
       "</div>"
      ],
      "text/plain": [
       "       company  emp_name             job    salary\n",
       "0   persistent   manisha   data engineer  600000.0\n",
       "1     teradata     vivek    data analyst  700000.0\n",
       "2      infosys     sagar           clerk       NaN\n",
       "3  elastic run   meghana  data scientist  800000.0\n",
       "4  tech verito  vaibhavi            mbbs  900000.0\n",
       "5          tcs       ram           clerk       NaN"
      ]
     },
     "execution_count": 7,
     "metadata": {},
     "output_type": "execute_result"
    }
   ],
   "source": [
    "data"
   ]
  },
  {
   "cell_type": "code",
   "execution_count": 8,
   "metadata": {},
   "outputs": [
    {
     "data": {
      "text/plain": [
       "False    4\n",
       "True     2\n",
       "Name: salary, dtype: int64"
      ]
     },
     "execution_count": 8,
     "metadata": {},
     "output_type": "execute_result"
    }
   ],
   "source": [
    "data['salary'].isnull().value_counts()"
   ]
  },
  {
   "cell_type": "code",
   "execution_count": 9,
   "metadata": {},
   "outputs": [
    {
     "data": {
      "text/html": [
       "<div>\n",
       "<style scoped>\n",
       "    .dataframe tbody tr th:only-of-type {\n",
       "        vertical-align: middle;\n",
       "    }\n",
       "\n",
       "    .dataframe tbody tr th {\n",
       "        vertical-align: top;\n",
       "    }\n",
       "\n",
       "    .dataframe thead th {\n",
       "        text-align: right;\n",
       "    }\n",
       "</style>\n",
       "<table border=\"1\" class=\"dataframe\">\n",
       "  <thead>\n",
       "    <tr style=\"text-align: right;\">\n",
       "      <th></th>\n",
       "      <th>company</th>\n",
       "      <th>emp_name</th>\n",
       "      <th>job</th>\n",
       "      <th>salary</th>\n",
       "    </tr>\n",
       "  </thead>\n",
       "  <tbody>\n",
       "    <tr>\n",
       "      <td>0</td>\n",
       "      <td>persistent</td>\n",
       "      <td>manisha</td>\n",
       "      <td>data engineer</td>\n",
       "      <td>600000.0</td>\n",
       "    </tr>\n",
       "    <tr>\n",
       "      <td>1</td>\n",
       "      <td>teradata</td>\n",
       "      <td>vivek</td>\n",
       "      <td>data analyst</td>\n",
       "      <td>700000.0</td>\n",
       "    </tr>\n",
       "    <tr>\n",
       "      <td>2</td>\n",
       "      <td>infosys</td>\n",
       "      <td>sagar</td>\n",
       "      <td>clerk</td>\n",
       "      <td>750000.0</td>\n",
       "    </tr>\n",
       "    <tr>\n",
       "      <td>3</td>\n",
       "      <td>elastic run</td>\n",
       "      <td>meghana</td>\n",
       "      <td>data scientist</td>\n",
       "      <td>800000.0</td>\n",
       "    </tr>\n",
       "    <tr>\n",
       "      <td>4</td>\n",
       "      <td>tech verito</td>\n",
       "      <td>vaibhavi</td>\n",
       "      <td>mbbs</td>\n",
       "      <td>900000.0</td>\n",
       "    </tr>\n",
       "    <tr>\n",
       "      <td>5</td>\n",
       "      <td>tcs</td>\n",
       "      <td>ram</td>\n",
       "      <td>clerk</td>\n",
       "      <td>750000.0</td>\n",
       "    </tr>\n",
       "  </tbody>\n",
       "</table>\n",
       "</div>"
      ],
      "text/plain": [
       "       company  emp_name             job    salary\n",
       "0   persistent   manisha   data engineer  600000.0\n",
       "1     teradata     vivek    data analyst  700000.0\n",
       "2      infosys     sagar           clerk  750000.0\n",
       "3  elastic run   meghana  data scientist  800000.0\n",
       "4  tech verito  vaibhavi            mbbs  900000.0\n",
       "5          tcs       ram           clerk  750000.0"
      ]
     },
     "execution_count": 9,
     "metadata": {},
     "output_type": "execute_result"
    }
   ],
   "source": [
    "data['salary'] = data['salary'].fillna(data['salary'].mean())\n",
    "data"
   ]
  },
  {
   "cell_type": "code",
   "execution_count": 10,
   "metadata": {},
   "outputs": [],
   "source": [
    "data =pd.read_csv('data.csv')"
   ]
  },
  {
   "cell_type": "code",
   "execution_count": 11,
   "metadata": {},
   "outputs": [
    {
     "data": {
      "text/html": [
       "<div>\n",
       "<style scoped>\n",
       "    .dataframe tbody tr th:only-of-type {\n",
       "        vertical-align: middle;\n",
       "    }\n",
       "\n",
       "    .dataframe tbody tr th {\n",
       "        vertical-align: top;\n",
       "    }\n",
       "\n",
       "    .dataframe thead th {\n",
       "        text-align: right;\n",
       "    }\n",
       "</style>\n",
       "<table border=\"1\" class=\"dataframe\">\n",
       "  <thead>\n",
       "    <tr style=\"text-align: right;\">\n",
       "      <th></th>\n",
       "      <th>company</th>\n",
       "      <th>emp_name</th>\n",
       "      <th>job</th>\n",
       "      <th>salary</th>\n",
       "    </tr>\n",
       "  </thead>\n",
       "  <tbody>\n",
       "    <tr>\n",
       "      <td>0</td>\n",
       "      <td>persistent</td>\n",
       "      <td>manisha</td>\n",
       "      <td>data engineer</td>\n",
       "      <td>600000.0</td>\n",
       "    </tr>\n",
       "    <tr>\n",
       "      <td>1</td>\n",
       "      <td>teradata</td>\n",
       "      <td>vivek</td>\n",
       "      <td>data analyst</td>\n",
       "      <td>700000.0</td>\n",
       "    </tr>\n",
       "    <tr>\n",
       "      <td>2</td>\n",
       "      <td>infosys</td>\n",
       "      <td>sagar</td>\n",
       "      <td>clerk</td>\n",
       "      <td>NaN</td>\n",
       "    </tr>\n",
       "    <tr>\n",
       "      <td>3</td>\n",
       "      <td>elastic run</td>\n",
       "      <td>meghana</td>\n",
       "      <td>data scientist</td>\n",
       "      <td>800000.0</td>\n",
       "    </tr>\n",
       "    <tr>\n",
       "      <td>4</td>\n",
       "      <td>tech verito</td>\n",
       "      <td>vaibhavi</td>\n",
       "      <td>mbbs</td>\n",
       "      <td>900000.0</td>\n",
       "    </tr>\n",
       "    <tr>\n",
       "      <td>5</td>\n",
       "      <td>tcs</td>\n",
       "      <td>ram</td>\n",
       "      <td>clerk</td>\n",
       "      <td>NaN</td>\n",
       "    </tr>\n",
       "  </tbody>\n",
       "</table>\n",
       "</div>"
      ],
      "text/plain": [
       "       company  emp_name             job    salary\n",
       "0   persistent   manisha   data engineer  600000.0\n",
       "1     teradata     vivek    data analyst  700000.0\n",
       "2      infosys     sagar           clerk       NaN\n",
       "3  elastic run   meghana  data scientist  800000.0\n",
       "4  tech verito  vaibhavi            mbbs  900000.0\n",
       "5          tcs       ram           clerk       NaN"
      ]
     },
     "execution_count": 11,
     "metadata": {},
     "output_type": "execute_result"
    }
   ],
   "source": [
    "data"
   ]
  },
  {
   "cell_type": "code",
   "execution_count": 12,
   "metadata": {},
   "outputs": [],
   "source": [
    "#back propogation method\n",
    "data['salary'] = data['salary'].fillna(method='pad')"
   ]
  },
  {
   "cell_type": "code",
   "execution_count": 13,
   "metadata": {},
   "outputs": [
    {
     "data": {
      "text/html": [
       "<div>\n",
       "<style scoped>\n",
       "    .dataframe tbody tr th:only-of-type {\n",
       "        vertical-align: middle;\n",
       "    }\n",
       "\n",
       "    .dataframe tbody tr th {\n",
       "        vertical-align: top;\n",
       "    }\n",
       "\n",
       "    .dataframe thead th {\n",
       "        text-align: right;\n",
       "    }\n",
       "</style>\n",
       "<table border=\"1\" class=\"dataframe\">\n",
       "  <thead>\n",
       "    <tr style=\"text-align: right;\">\n",
       "      <th></th>\n",
       "      <th>company</th>\n",
       "      <th>emp_name</th>\n",
       "      <th>job</th>\n",
       "      <th>salary</th>\n",
       "    </tr>\n",
       "  </thead>\n",
       "  <tbody>\n",
       "    <tr>\n",
       "      <td>0</td>\n",
       "      <td>persistent</td>\n",
       "      <td>manisha</td>\n",
       "      <td>data engineer</td>\n",
       "      <td>600000.0</td>\n",
       "    </tr>\n",
       "    <tr>\n",
       "      <td>1</td>\n",
       "      <td>teradata</td>\n",
       "      <td>vivek</td>\n",
       "      <td>data analyst</td>\n",
       "      <td>700000.0</td>\n",
       "    </tr>\n",
       "    <tr>\n",
       "      <td>2</td>\n",
       "      <td>infosys</td>\n",
       "      <td>sagar</td>\n",
       "      <td>clerk</td>\n",
       "      <td>700000.0</td>\n",
       "    </tr>\n",
       "    <tr>\n",
       "      <td>3</td>\n",
       "      <td>elastic run</td>\n",
       "      <td>meghana</td>\n",
       "      <td>data scientist</td>\n",
       "      <td>800000.0</td>\n",
       "    </tr>\n",
       "    <tr>\n",
       "      <td>4</td>\n",
       "      <td>tech verito</td>\n",
       "      <td>vaibhavi</td>\n",
       "      <td>mbbs</td>\n",
       "      <td>900000.0</td>\n",
       "    </tr>\n",
       "    <tr>\n",
       "      <td>5</td>\n",
       "      <td>tcs</td>\n",
       "      <td>ram</td>\n",
       "      <td>clerk</td>\n",
       "      <td>900000.0</td>\n",
       "    </tr>\n",
       "  </tbody>\n",
       "</table>\n",
       "</div>"
      ],
      "text/plain": [
       "       company  emp_name             job    salary\n",
       "0   persistent   manisha   data engineer  600000.0\n",
       "1     teradata     vivek    data analyst  700000.0\n",
       "2      infosys     sagar           clerk  700000.0\n",
       "3  elastic run   meghana  data scientist  800000.0\n",
       "4  tech verito  vaibhavi            mbbs  900000.0\n",
       "5          tcs       ram           clerk  900000.0"
      ]
     },
     "execution_count": 13,
     "metadata": {},
     "output_type": "execute_result"
    }
   ],
   "source": [
    "data"
   ]
  },
  {
   "cell_type": "markdown",
   "metadata": {},
   "source": [
    "#### fillna():\n",
    "CONCLUSION : WE CAN FILL NaN VALUES USING <br>\n",
    "1) 0'S <br>\n",
    "2) MEAN OF THE COLUMN <br>\n",
    "3) BACK PROPOGATION METHOD <br>"
   ]
  },
  {
   "cell_type": "code",
   "execution_count": 14,
   "metadata": {},
   "outputs": [
    {
     "data": {
      "text/html": [
       "<div>\n",
       "<style scoped>\n",
       "    .dataframe tbody tr th:only-of-type {\n",
       "        vertical-align: middle;\n",
       "    }\n",
       "\n",
       "    .dataframe tbody tr th {\n",
       "        vertical-align: top;\n",
       "    }\n",
       "\n",
       "    .dataframe thead th {\n",
       "        text-align: right;\n",
       "    }\n",
       "</style>\n",
       "<table border=\"1\" class=\"dataframe\">\n",
       "  <thead>\n",
       "    <tr style=\"text-align: right;\">\n",
       "      <th></th>\n",
       "      <th>company</th>\n",
       "      <th>emp_name</th>\n",
       "      <th>job</th>\n",
       "      <th>salary</th>\n",
       "    </tr>\n",
       "  </thead>\n",
       "  <tbody>\n",
       "    <tr>\n",
       "      <td>0</td>\n",
       "      <td>persistent</td>\n",
       "      <td>manisha</td>\n",
       "      <td>data engineer</td>\n",
       "      <td>600000.0</td>\n",
       "    </tr>\n",
       "    <tr>\n",
       "      <td>1</td>\n",
       "      <td>teradata</td>\n",
       "      <td>vivek</td>\n",
       "      <td>data analyst</td>\n",
       "      <td>700000.0</td>\n",
       "    </tr>\n",
       "    <tr>\n",
       "      <td>2</td>\n",
       "      <td>infosys</td>\n",
       "      <td>sagar</td>\n",
       "      <td>clerk</td>\n",
       "      <td>NaN</td>\n",
       "    </tr>\n",
       "    <tr>\n",
       "      <td>3</td>\n",
       "      <td>elastic run</td>\n",
       "      <td>meghana</td>\n",
       "      <td>data scientist</td>\n",
       "      <td>800000.0</td>\n",
       "    </tr>\n",
       "    <tr>\n",
       "      <td>4</td>\n",
       "      <td>tech verito</td>\n",
       "      <td>vaibhavi</td>\n",
       "      <td>mbbs</td>\n",
       "      <td>900000.0</td>\n",
       "    </tr>\n",
       "    <tr>\n",
       "      <td>5</td>\n",
       "      <td>tcs</td>\n",
       "      <td>ram</td>\n",
       "      <td>clerk</td>\n",
       "      <td>NaN</td>\n",
       "    </tr>\n",
       "  </tbody>\n",
       "</table>\n",
       "</div>"
      ],
      "text/plain": [
       "       company  emp_name             job    salary\n",
       "0   persistent   manisha   data engineer  600000.0\n",
       "1     teradata     vivek    data analyst  700000.0\n",
       "2      infosys     sagar           clerk       NaN\n",
       "3  elastic run   meghana  data scientist  800000.0\n",
       "4  tech verito  vaibhavi            mbbs  900000.0\n",
       "5          tcs       ram           clerk       NaN"
      ]
     },
     "execution_count": 14,
     "metadata": {},
     "output_type": "execute_result"
    }
   ],
   "source": [
    "data =pd.read_csv('data.csv')\n",
    "data"
   ]
  },
  {
   "cell_type": "code",
   "execution_count": 15,
   "metadata": {},
   "outputs": [
    {
     "data": {
      "text/html": [
       "<div>\n",
       "<style scoped>\n",
       "    .dataframe tbody tr th:only-of-type {\n",
       "        vertical-align: middle;\n",
       "    }\n",
       "\n",
       "    .dataframe tbody tr th {\n",
       "        vertical-align: top;\n",
       "    }\n",
       "\n",
       "    .dataframe thead th {\n",
       "        text-align: right;\n",
       "    }\n",
       "</style>\n",
       "<table border=\"1\" class=\"dataframe\">\n",
       "  <thead>\n",
       "    <tr style=\"text-align: right;\">\n",
       "      <th></th>\n",
       "      <th>company</th>\n",
       "      <th>emp_name</th>\n",
       "      <th>job</th>\n",
       "      <th>salary</th>\n",
       "    </tr>\n",
       "  </thead>\n",
       "  <tbody>\n",
       "    <tr>\n",
       "      <td>0</td>\n",
       "      <td>persistent</td>\n",
       "      <td>manisha</td>\n",
       "      <td>data engineer</td>\n",
       "      <td>600000.0</td>\n",
       "    </tr>\n",
       "    <tr>\n",
       "      <td>1</td>\n",
       "      <td>teradata</td>\n",
       "      <td>vivek</td>\n",
       "      <td>data analyst</td>\n",
       "      <td>700000.0</td>\n",
       "    </tr>\n",
       "    <tr>\n",
       "      <td>3</td>\n",
       "      <td>elastic run</td>\n",
       "      <td>meghana</td>\n",
       "      <td>data scientist</td>\n",
       "      <td>800000.0</td>\n",
       "    </tr>\n",
       "    <tr>\n",
       "      <td>4</td>\n",
       "      <td>tech verito</td>\n",
       "      <td>vaibhavi</td>\n",
       "      <td>mbbs</td>\n",
       "      <td>900000.0</td>\n",
       "    </tr>\n",
       "  </tbody>\n",
       "</table>\n",
       "</div>"
      ],
      "text/plain": [
       "       company  emp_name             job    salary\n",
       "0   persistent   manisha   data engineer  600000.0\n",
       "1     teradata     vivek    data analyst  700000.0\n",
       "3  elastic run   meghana  data scientist  800000.0\n",
       "4  tech verito  vaibhavi            mbbs  900000.0"
      ]
     },
     "execution_count": 15,
     "metadata": {},
     "output_type": "execute_result"
    }
   ],
   "source": [
    "data = data.dropna()\n",
    "data"
   ]
  },
  {
   "cell_type": "markdown",
   "metadata": {},
   "source": [
    "#### dropna()\n",
    "OR, <br>\n",
    "        WE CAN DROP ALL NaN VALUES USING dropna()"
   ]
  },
  {
   "cell_type": "markdown",
   "metadata": {},
   "source": [
    "====================================================================================\n",
    "### STRING OPS:\n",
    "#### SUBSTRING:"
   ]
  },
  {
   "cell_type": "code",
   "execution_count": 16,
   "metadata": {},
   "outputs": [
    {
     "data": {
      "text/plain": [
       "0    600000.0\n",
       "1    700000.0\n",
       "Name: salary, dtype: float64"
      ]
     },
     "execution_count": 16,
     "metadata": {},
     "output_type": "execute_result"
    }
   ],
   "source": [
    "data['salary'][0:2]"
   ]
  },
  {
   "cell_type": "markdown",
   "metadata": {},
   "source": [
    "#### FILTERING:"
   ]
  },
  {
   "cell_type": "code",
   "execution_count": 17,
   "metadata": {},
   "outputs": [
    {
     "data": {
      "text/html": [
       "<div>\n",
       "<style scoped>\n",
       "    .dataframe tbody tr th:only-of-type {\n",
       "        vertical-align: middle;\n",
       "    }\n",
       "\n",
       "    .dataframe tbody tr th {\n",
       "        vertical-align: top;\n",
       "    }\n",
       "\n",
       "    .dataframe thead th {\n",
       "        text-align: right;\n",
       "    }\n",
       "</style>\n",
       "<table border=\"1\" class=\"dataframe\">\n",
       "  <thead>\n",
       "    <tr style=\"text-align: right;\">\n",
       "      <th></th>\n",
       "      <th>company</th>\n",
       "      <th>emp_name</th>\n",
       "      <th>job</th>\n",
       "      <th>salary</th>\n",
       "    </tr>\n",
       "  </thead>\n",
       "  <tbody>\n",
       "    <tr>\n",
       "      <td>4</td>\n",
       "      <td>tech verito</td>\n",
       "      <td>vaibhavi</td>\n",
       "      <td>mbbs</td>\n",
       "      <td>900000.0</td>\n",
       "    </tr>\n",
       "  </tbody>\n",
       "</table>\n",
       "</div>"
      ],
      "text/plain": [
       "       company  emp_name   job    salary\n",
       "4  tech verito  vaibhavi  mbbs  900000.0"
      ]
     },
     "execution_count": 17,
     "metadata": {},
     "output_type": "execute_result"
    }
   ],
   "source": [
    "data[data['emp_name']==\"vaibhavi\"]"
   ]
  },
  {
   "cell_type": "code",
   "execution_count": 18,
   "metadata": {},
   "outputs": [
    {
     "data": {
      "text/html": [
       "<div>\n",
       "<style scoped>\n",
       "    .dataframe tbody tr th:only-of-type {\n",
       "        vertical-align: middle;\n",
       "    }\n",
       "\n",
       "    .dataframe tbody tr th {\n",
       "        vertical-align: top;\n",
       "    }\n",
       "\n",
       "    .dataframe thead th {\n",
       "        text-align: right;\n",
       "    }\n",
       "</style>\n",
       "<table border=\"1\" class=\"dataframe\">\n",
       "  <thead>\n",
       "    <tr style=\"text-align: right;\">\n",
       "      <th></th>\n",
       "      <th>company</th>\n",
       "      <th>emp_name</th>\n",
       "      <th>job</th>\n",
       "      <th>salary</th>\n",
       "    </tr>\n",
       "  </thead>\n",
       "  <tbody>\n",
       "    <tr>\n",
       "      <td>1</td>\n",
       "      <td>teradata</td>\n",
       "      <td>vivek</td>\n",
       "      <td>data analyst</td>\n",
       "      <td>700000.0</td>\n",
       "    </tr>\n",
       "    <tr>\n",
       "      <td>3</td>\n",
       "      <td>elastic run</td>\n",
       "      <td>meghana</td>\n",
       "      <td>data scientist</td>\n",
       "      <td>800000.0</td>\n",
       "    </tr>\n",
       "    <tr>\n",
       "      <td>4</td>\n",
       "      <td>tech verito</td>\n",
       "      <td>vaibhavi</td>\n",
       "      <td>mbbs</td>\n",
       "      <td>900000.0</td>\n",
       "    </tr>\n",
       "  </tbody>\n",
       "</table>\n",
       "</div>"
      ],
      "text/plain": [
       "       company  emp_name             job    salary\n",
       "1     teradata     vivek    data analyst  700000.0\n",
       "3  elastic run   meghana  data scientist  800000.0\n",
       "4  tech verito  vaibhavi            mbbs  900000.0"
      ]
     },
     "execution_count": 18,
     "metadata": {},
     "output_type": "execute_result"
    }
   ],
   "source": [
    "data[data['salary']>=700000]"
   ]
  },
  {
   "cell_type": "markdown",
   "metadata": {},
   "source": [
    "#### MERGING:"
   ]
  },
  {
   "cell_type": "code",
   "execution_count": 66,
   "metadata": {},
   "outputs": [
    {
     "name": "stdout",
     "output_type": "stream",
     "text": [
      "      company emp_name            job    salary\n",
      "0  persistent  manisha  data engineer  600000.0\n",
      "1    teradata    vivek   data analyst  700000.0\n",
      "\n",
      "\n",
      "       company  emp_name             job    salary\n",
      "3  elastic run   meghana  data scientist  800000.0\n",
      "4  tech verito  vaibhavi            mbbs  900000.0\n"
     ]
    }
   ],
   "source": [
    "a1 = data[0:2]\n",
    "a2 = data[2:5]\n",
    "print(a1)\n",
    "print(\"\\n\")\n",
    "print(a2)\n"
   ]
  },
  {
   "cell_type": "code",
   "execution_count": 62,
   "metadata": {},
   "outputs": [
    {
     "name": "stdout",
     "output_type": "stream",
     "text": [
      "             company  emp_name             job    salary\n",
      "part1 0   persistent   manisha   data engineer  600000.0\n",
      "      1     teradata     vivek    data analyst  700000.0\n",
      "part2 3  elastic run   meghana  data scientist  800000.0\n",
      "      4  tech verito  vaibhavi            mbbs  900000.0\n"
     ]
    }
   ],
   "source": [
    "combo = pd.concat([a1,a2],keys=['part1','part2'])\n",
    "print(combo)"
   ]
  },
  {
   "cell_type": "markdown",
   "metadata": {},
   "source": [
    "#### UPPERCASE , LOWERCASE , LENGTH , SPLIT, REPLACE "
   ]
  },
  {
   "cell_type": "code",
   "execution_count": 70,
   "metadata": {},
   "outputs": [
    {
     "data": {
      "text/plain": [
       "0     MANISHA\n",
       "1       VIVEK\n",
       "3     MEGHANA\n",
       "4    VAIBHAVI\n",
       "Name: emp_name, dtype: object"
      ]
     },
     "execution_count": 70,
     "metadata": {},
     "output_type": "execute_result"
    }
   ],
   "source": [
    "data['emp_name'].str.upper()"
   ]
  },
  {
   "cell_type": "code",
   "execution_count": 71,
   "metadata": {},
   "outputs": [
    {
     "data": {
      "text/plain": [
       "0    10\n",
       "1     8\n",
       "3    11\n",
       "4    11\n",
       "Name: company, dtype: int64"
      ]
     },
     "execution_count": 71,
     "metadata": {},
     "output_type": "execute_result"
    }
   ],
   "source": [
    "data['company'].str.len()"
   ]
  },
  {
   "cell_type": "code",
   "execution_count": 72,
   "metadata": {},
   "outputs": [
    {
     "data": {
      "text/plain": [
       "0     manisha\n",
       "1       vivek\n",
       "3     meghana\n",
       "4    vaibhavi\n",
       "Name: emp_name, dtype: object"
      ]
     },
     "execution_count": 72,
     "metadata": {},
     "output_type": "execute_result"
    }
   ],
   "source": [
    "data['emp_name'].str.lower()"
   ]
  },
  {
   "cell_type": "code",
   "execution_count": 77,
   "metadata": {},
   "outputs": [
    {
     "data": {
      "text/plain": [
       "0     manisha\n",
       "1       vivek\n",
       "3       meghu\n",
       "4    vaibhavi\n",
       "Name: emp_name, dtype: object"
      ]
     },
     "execution_count": 77,
     "metadata": {},
     "output_type": "execute_result"
    }
   ],
   "source": [
    "data['emp_name'].str.replace('meghana','meghu')"
   ]
  },
  {
   "cell_type": "code",
   "execution_count": 80,
   "metadata": {},
   "outputs": [
    {
     "data": {
      "text/plain": [
       "0     [m, nish, ]\n",
       "1         [vivek]\n",
       "3     [megh, n, ]\n",
       "4    [v, ibh, vi]\n",
       "Name: emp_name, dtype: object"
      ]
     },
     "execution_count": 80,
     "metadata": {},
     "output_type": "execute_result"
    }
   ],
   "source": [
    "data['emp_name'].str.split('a')"
   ]
  },
  {
   "cell_type": "code",
   "execution_count": 81,
   "metadata": {},
   "outputs": [
    {
     "data": {
      "text/html": [
       "<div>\n",
       "<style scoped>\n",
       "    .dataframe tbody tr th:only-of-type {\n",
       "        vertical-align: middle;\n",
       "    }\n",
       "\n",
       "    .dataframe tbody tr th {\n",
       "        vertical-align: top;\n",
       "    }\n",
       "\n",
       "    .dataframe thead th {\n",
       "        text-align: right;\n",
       "    }\n",
       "</style>\n",
       "<table border=\"1\" class=\"dataframe\">\n",
       "  <thead>\n",
       "    <tr style=\"text-align: right;\">\n",
       "      <th></th>\n",
       "      <th>company</th>\n",
       "      <th>emp_name</th>\n",
       "      <th>job</th>\n",
       "      <th>salary</th>\n",
       "    </tr>\n",
       "  </thead>\n",
       "  <tbody>\n",
       "    <tr>\n",
       "      <td>0</td>\n",
       "      <td>persistent</td>\n",
       "      <td>manisha</td>\n",
       "      <td>data engineer</td>\n",
       "      <td>600000.0</td>\n",
       "    </tr>\n",
       "    <tr>\n",
       "      <td>1</td>\n",
       "      <td>teradata</td>\n",
       "      <td>vivek</td>\n",
       "      <td>data analyst</td>\n",
       "      <td>700000.0</td>\n",
       "    </tr>\n",
       "    <tr>\n",
       "      <td>3</td>\n",
       "      <td>elastic run</td>\n",
       "      <td>meghana</td>\n",
       "      <td>data scientist</td>\n",
       "      <td>800000.0</td>\n",
       "    </tr>\n",
       "    <tr>\n",
       "      <td>4</td>\n",
       "      <td>tech verito</td>\n",
       "      <td>vaibhavi</td>\n",
       "      <td>mbbs</td>\n",
       "      <td>900000.0</td>\n",
       "    </tr>\n",
       "  </tbody>\n",
       "</table>\n",
       "</div>"
      ],
      "text/plain": [
       "       company  emp_name             job    salary\n",
       "0   persistent   manisha   data engineer  600000.0\n",
       "1     teradata     vivek    data analyst  700000.0\n",
       "3  elastic run   meghana  data scientist  800000.0\n",
       "4  tech verito  vaibhavi            mbbs  900000.0"
      ]
     },
     "execution_count": 81,
     "metadata": {},
     "output_type": "execute_result"
    }
   ],
   "source": [
    "data"
   ]
  },
  {
   "cell_type": "code",
   "execution_count": 82,
   "metadata": {},
   "outputs": [],
   "source": [
    "data['email']=['mgm@gmail.com','vkj@gmail.com','mvj@gmail.com','vvj@gmail.com']"
   ]
  },
  {
   "cell_type": "code",
   "execution_count": 83,
   "metadata": {},
   "outputs": [
    {
     "data": {
      "text/html": [
       "<div>\n",
       "<style scoped>\n",
       "    .dataframe tbody tr th:only-of-type {\n",
       "        vertical-align: middle;\n",
       "    }\n",
       "\n",
       "    .dataframe tbody tr th {\n",
       "        vertical-align: top;\n",
       "    }\n",
       "\n",
       "    .dataframe thead th {\n",
       "        text-align: right;\n",
       "    }\n",
       "</style>\n",
       "<table border=\"1\" class=\"dataframe\">\n",
       "  <thead>\n",
       "    <tr style=\"text-align: right;\">\n",
       "      <th></th>\n",
       "      <th>company</th>\n",
       "      <th>emp_name</th>\n",
       "      <th>job</th>\n",
       "      <th>salary</th>\n",
       "      <th>email</th>\n",
       "    </tr>\n",
       "  </thead>\n",
       "  <tbody>\n",
       "    <tr>\n",
       "      <td>0</td>\n",
       "      <td>persistent</td>\n",
       "      <td>manisha</td>\n",
       "      <td>data engineer</td>\n",
       "      <td>600000.0</td>\n",
       "      <td>mgm@gmail.com</td>\n",
       "    </tr>\n",
       "    <tr>\n",
       "      <td>1</td>\n",
       "      <td>teradata</td>\n",
       "      <td>vivek</td>\n",
       "      <td>data analyst</td>\n",
       "      <td>700000.0</td>\n",
       "      <td>vkj@gmail.com</td>\n",
       "    </tr>\n",
       "    <tr>\n",
       "      <td>3</td>\n",
       "      <td>elastic run</td>\n",
       "      <td>meghana</td>\n",
       "      <td>data scientist</td>\n",
       "      <td>800000.0</td>\n",
       "      <td>mvj@gmail.com</td>\n",
       "    </tr>\n",
       "    <tr>\n",
       "      <td>4</td>\n",
       "      <td>tech verito</td>\n",
       "      <td>vaibhavi</td>\n",
       "      <td>mbbs</td>\n",
       "      <td>900000.0</td>\n",
       "      <td>vvj@gmail.com</td>\n",
       "    </tr>\n",
       "  </tbody>\n",
       "</table>\n",
       "</div>"
      ],
      "text/plain": [
       "       company  emp_name             job    salary          email\n",
       "0   persistent   manisha   data engineer  600000.0  mgm@gmail.com\n",
       "1     teradata     vivek    data analyst  700000.0  vkj@gmail.com\n",
       "3  elastic run   meghana  data scientist  800000.0  mvj@gmail.com\n",
       "4  tech verito  vaibhavi            mbbs  900000.0  vvj@gmail.com"
      ]
     },
     "execution_count": 83,
     "metadata": {},
     "output_type": "execute_result"
    }
   ],
   "source": [
    "data"
   ]
  },
  {
   "cell_type": "code",
   "execution_count": 23,
   "metadata": {},
   "outputs": [
    {
     "name": "stderr",
     "output_type": "stream",
     "text": [
      "/home/meghana/anaconda3/lib/python3.7/site-packages/ipykernel_launcher.py:1: SettingWithCopyWarning: \n",
      "A value is trying to be set on a copy of a slice from a DataFrame.\n",
      "Try using .loc[row_indexer,col_indexer] = value instead\n",
      "\n",
      "See the caveats in the documentation: http://pandas.pydata.org/pandas-docs/stable/user_guide/indexing.html#returning-a-view-versus-a-copy\n",
      "  \"\"\"Entry point for launching an IPython kernel.\n"
     ]
    }
   ],
   "source": [
    "data['email']=['mgm@gmail.com','vkj@gmail.com','mvj@yahoo.com','vvj@gmail.com']"
   ]
  },
  {
   "cell_type": "code",
   "execution_count": 24,
   "metadata": {},
   "outputs": [
    {
     "data": {
      "text/html": [
       "<div>\n",
       "<style scoped>\n",
       "    .dataframe tbody tr th:only-of-type {\n",
       "        vertical-align: middle;\n",
       "    }\n",
       "\n",
       "    .dataframe tbody tr th {\n",
       "        vertical-align: top;\n",
       "    }\n",
       "\n",
       "    .dataframe thead th {\n",
       "        text-align: right;\n",
       "    }\n",
       "</style>\n",
       "<table border=\"1\" class=\"dataframe\">\n",
       "  <thead>\n",
       "    <tr style=\"text-align: right;\">\n",
       "      <th></th>\n",
       "      <th>company</th>\n",
       "      <th>emp_name</th>\n",
       "      <th>job</th>\n",
       "      <th>salary</th>\n",
       "      <th>email</th>\n",
       "    </tr>\n",
       "  </thead>\n",
       "  <tbody>\n",
       "    <tr>\n",
       "      <td>0</td>\n",
       "      <td>persistent</td>\n",
       "      <td>manisha</td>\n",
       "      <td>data engineer</td>\n",
       "      <td>600000.0</td>\n",
       "      <td>mgm@gmail.com</td>\n",
       "    </tr>\n",
       "    <tr>\n",
       "      <td>1</td>\n",
       "      <td>teradata</td>\n",
       "      <td>vivek</td>\n",
       "      <td>data analyst</td>\n",
       "      <td>700000.0</td>\n",
       "      <td>vkj@gmail.com</td>\n",
       "    </tr>\n",
       "    <tr>\n",
       "      <td>3</td>\n",
       "      <td>elastic run</td>\n",
       "      <td>meghana</td>\n",
       "      <td>data scientist</td>\n",
       "      <td>800000.0</td>\n",
       "      <td>mvj@yahoo.com</td>\n",
       "    </tr>\n",
       "    <tr>\n",
       "      <td>4</td>\n",
       "      <td>tech verito</td>\n",
       "      <td>vaibhavi</td>\n",
       "      <td>mbbs</td>\n",
       "      <td>900000.0</td>\n",
       "      <td>vvj@gmail.com</td>\n",
       "    </tr>\n",
       "  </tbody>\n",
       "</table>\n",
       "</div>"
      ],
      "text/plain": [
       "       company  emp_name             job    salary          email\n",
       "0   persistent   manisha   data engineer  600000.0  mgm@gmail.com\n",
       "1     teradata     vivek    data analyst  700000.0  vkj@gmail.com\n",
       "3  elastic run   meghana  data scientist  800000.0  mvj@yahoo.com\n",
       "4  tech verito  vaibhavi            mbbs  900000.0  vvj@gmail.com"
      ]
     },
     "execution_count": 24,
     "metadata": {},
     "output_type": "execute_result"
    }
   ],
   "source": [
    "data"
   ]
  },
  {
   "cell_type": "code",
   "execution_count": 25,
   "metadata": {},
   "outputs": [
    {
     "data": {
      "text/plain": [
       "0    [mgm, gmail.com]\n",
       "1    [vkj, gmail.com]\n",
       "3    [mvj, yahoo.com]\n",
       "4    [vvj, gmail.com]\n",
       "Name: email, dtype: object"
      ]
     },
     "execution_count": 25,
     "metadata": {},
     "output_type": "execute_result"
    }
   ],
   "source": [
    "a = data['email'].str.split('@')\n",
    "a"
   ]
  },
  {
   "cell_type": "code",
   "execution_count": 26,
   "metadata": {},
   "outputs": [
    {
     "data": {
      "text/plain": [
       "pandas.core.frame.DataFrame"
      ]
     },
     "execution_count": 26,
     "metadata": {},
     "output_type": "execute_result"
    }
   ],
   "source": [
    "type(data)"
   ]
  },
  {
   "cell_type": "code",
   "execution_count": 27,
   "metadata": {},
   "outputs": [
    {
     "data": {
      "text/plain": [
       "pandas.core.frame.DataFrame"
      ]
     },
     "execution_count": 27,
     "metadata": {},
     "output_type": "execute_result"
    }
   ],
   "source": [
    "type(employees)"
   ]
  },
  {
   "cell_type": "code",
   "execution_count": 28,
   "metadata": {},
   "outputs": [
    {
     "data": {
      "text/html": [
       "<div>\n",
       "<style scoped>\n",
       "    .dataframe tbody tr th:only-of-type {\n",
       "        vertical-align: middle;\n",
       "    }\n",
       "\n",
       "    .dataframe tbody tr th {\n",
       "        vertical-align: top;\n",
       "    }\n",
       "\n",
       "    .dataframe thead th {\n",
       "        text-align: right;\n",
       "    }\n",
       "</style>\n",
       "<table border=\"1\" class=\"dataframe\">\n",
       "  <thead>\n",
       "    <tr style=\"text-align: right;\">\n",
       "      <th></th>\n",
       "      <th>company</th>\n",
       "      <th>emp_name</th>\n",
       "      <th>job</th>\n",
       "      <th>salary</th>\n",
       "    </tr>\n",
       "  </thead>\n",
       "  <tbody>\n",
       "    <tr>\n",
       "      <td>0</td>\n",
       "      <td>persistent</td>\n",
       "      <td>manisha</td>\n",
       "      <td>data engineer</td>\n",
       "      <td>600000.0</td>\n",
       "    </tr>\n",
       "    <tr>\n",
       "      <td>1</td>\n",
       "      <td>teradata</td>\n",
       "      <td>vivek</td>\n",
       "      <td>data analyst</td>\n",
       "      <td>700000.0</td>\n",
       "    </tr>\n",
       "    <tr>\n",
       "      <td>2</td>\n",
       "      <td>infosys</td>\n",
       "      <td>sagar</td>\n",
       "      <td>clerk</td>\n",
       "      <td>NaN</td>\n",
       "    </tr>\n",
       "    <tr>\n",
       "      <td>3</td>\n",
       "      <td>elastic run</td>\n",
       "      <td>meghana</td>\n",
       "      <td>data scientist</td>\n",
       "      <td>800000.0</td>\n",
       "    </tr>\n",
       "    <tr>\n",
       "      <td>4</td>\n",
       "      <td>tech verito</td>\n",
       "      <td>vaibhavi</td>\n",
       "      <td>mbbs</td>\n",
       "      <td>900000.0</td>\n",
       "    </tr>\n",
       "    <tr>\n",
       "      <td>5</td>\n",
       "      <td>tcs</td>\n",
       "      <td>ram</td>\n",
       "      <td>clerk</td>\n",
       "      <td>NaN</td>\n",
       "    </tr>\n",
       "  </tbody>\n",
       "</table>\n",
       "</div>"
      ],
      "text/plain": [
       "       company  emp_name             job    salary\n",
       "0   persistent   manisha   data engineer  600000.0\n",
       "1     teradata     vivek    data analyst  700000.0\n",
       "2      infosys     sagar           clerk       NaN\n",
       "3  elastic run   meghana  data scientist  800000.0\n",
       "4  tech verito  vaibhavi            mbbs  900000.0\n",
       "5          tcs       ram           clerk       NaN"
      ]
     },
     "execution_count": 28,
     "metadata": {},
     "output_type": "execute_result"
    }
   ],
   "source": [
    "employees"
   ]
  },
  {
   "cell_type": "code",
   "execution_count": 29,
   "metadata": {},
   "outputs": [
    {
     "data": {
      "text/html": [
       "<div>\n",
       "<style scoped>\n",
       "    .dataframe tbody tr th:only-of-type {\n",
       "        vertical-align: middle;\n",
       "    }\n",
       "\n",
       "    .dataframe tbody tr th {\n",
       "        vertical-align: top;\n",
       "    }\n",
       "\n",
       "    .dataframe thead th {\n",
       "        text-align: right;\n",
       "    }\n",
       "</style>\n",
       "<table border=\"1\" class=\"dataframe\">\n",
       "  <thead>\n",
       "    <tr style=\"text-align: right;\">\n",
       "      <th></th>\n",
       "      <th>emp_name</th>\n",
       "      <th>job</th>\n",
       "      <th>salary</th>\n",
       "      <th>email</th>\n",
       "    </tr>\n",
       "  </thead>\n",
       "  <tbody>\n",
       "    <tr>\n",
       "      <td>0</td>\n",
       "      <td>manisha</td>\n",
       "      <td>data engineer</td>\n",
       "      <td>600000.0</td>\n",
       "      <td>mgm@gmail.com</td>\n",
       "    </tr>\n",
       "    <tr>\n",
       "      <td>1</td>\n",
       "      <td>vivek</td>\n",
       "      <td>data analyst</td>\n",
       "      <td>700000.0</td>\n",
       "      <td>vkj@gmail.com</td>\n",
       "    </tr>\n",
       "    <tr>\n",
       "      <td>3</td>\n",
       "      <td>meghana</td>\n",
       "      <td>data scientist</td>\n",
       "      <td>800000.0</td>\n",
       "      <td>mvj@yahoo.com</td>\n",
       "    </tr>\n",
       "    <tr>\n",
       "      <td>4</td>\n",
       "      <td>vaibhavi</td>\n",
       "      <td>mbbs</td>\n",
       "      <td>900000.0</td>\n",
       "      <td>vvj@gmail.com</td>\n",
       "    </tr>\n",
       "  </tbody>\n",
       "</table>\n",
       "</div>"
      ],
      "text/plain": [
       "   emp_name             job    salary          email\n",
       "0   manisha   data engineer  600000.0  mgm@gmail.com\n",
       "1     vivek    data analyst  700000.0  vkj@gmail.com\n",
       "3   meghana  data scientist  800000.0  mvj@yahoo.com\n",
       "4  vaibhavi            mbbs  900000.0  vvj@gmail.com"
      ]
     },
     "execution_count": 29,
     "metadata": {},
     "output_type": "execute_result"
    }
   ],
   "source": [
    "data.drop(columns =['company'])"
   ]
  },
  {
   "cell_type": "code",
   "execution_count": 30,
   "metadata": {},
   "outputs": [
    {
     "data": {
      "text/html": [
       "<div>\n",
       "<style scoped>\n",
       "    .dataframe tbody tr th:only-of-type {\n",
       "        vertical-align: middle;\n",
       "    }\n",
       "\n",
       "    .dataframe tbody tr th {\n",
       "        vertical-align: top;\n",
       "    }\n",
       "\n",
       "    .dataframe thead th {\n",
       "        text-align: right;\n",
       "    }\n",
       "</style>\n",
       "<table border=\"1\" class=\"dataframe\">\n",
       "  <thead>\n",
       "    <tr style=\"text-align: right;\">\n",
       "      <th></th>\n",
       "      <th>emp_name</th>\n",
       "      <th>job</th>\n",
       "      <th>salary</th>\n",
       "      <th>email</th>\n",
       "    </tr>\n",
       "  </thead>\n",
       "  <tbody>\n",
       "    <tr>\n",
       "      <td>0</td>\n",
       "      <td>manisha</td>\n",
       "      <td>data engineer</td>\n",
       "      <td>600000.0</td>\n",
       "      <td>mgm@gmail.com</td>\n",
       "    </tr>\n",
       "    <tr>\n",
       "      <td>1</td>\n",
       "      <td>vivek</td>\n",
       "      <td>data analyst</td>\n",
       "      <td>700000.0</td>\n",
       "      <td>vkj@gmail.com</td>\n",
       "    </tr>\n",
       "    <tr>\n",
       "      <td>3</td>\n",
       "      <td>meghana</td>\n",
       "      <td>data scientist</td>\n",
       "      <td>800000.0</td>\n",
       "      <td>mvj@yahoo.com</td>\n",
       "    </tr>\n",
       "    <tr>\n",
       "      <td>4</td>\n",
       "      <td>vaibhavi</td>\n",
       "      <td>mbbs</td>\n",
       "      <td>900000.0</td>\n",
       "      <td>vvj@gmail.com</td>\n",
       "    </tr>\n",
       "  </tbody>\n",
       "</table>\n",
       "</div>"
      ],
      "text/plain": [
       "   emp_name             job    salary          email\n",
       "0   manisha   data engineer  600000.0  mgm@gmail.com\n",
       "1     vivek    data analyst  700000.0  vkj@gmail.com\n",
       "3   meghana  data scientist  800000.0  mvj@yahoo.com\n",
       "4  vaibhavi            mbbs  900000.0  vvj@gmail.com"
      ]
     },
     "execution_count": 30,
     "metadata": {},
     "output_type": "execute_result"
    }
   ],
   "source": [
    "data.drop(columns =['company'],inplace=False)"
   ]
  },
  {
   "cell_type": "code",
   "execution_count": 31,
   "metadata": {},
   "outputs": [
    {
     "data": {
      "text/html": [
       "<div>\n",
       "<style scoped>\n",
       "    .dataframe tbody tr th:only-of-type {\n",
       "        vertical-align: middle;\n",
       "    }\n",
       "\n",
       "    .dataframe tbody tr th {\n",
       "        vertical-align: top;\n",
       "    }\n",
       "\n",
       "    .dataframe thead th {\n",
       "        text-align: right;\n",
       "    }\n",
       "</style>\n",
       "<table border=\"1\" class=\"dataframe\">\n",
       "  <thead>\n",
       "    <tr style=\"text-align: right;\">\n",
       "      <th></th>\n",
       "      <th>company</th>\n",
       "      <th>emp_name</th>\n",
       "      <th>job</th>\n",
       "      <th>salary</th>\n",
       "      <th>email</th>\n",
       "    </tr>\n",
       "  </thead>\n",
       "  <tbody>\n",
       "    <tr>\n",
       "      <td>0</td>\n",
       "      <td>persistent</td>\n",
       "      <td>manisha</td>\n",
       "      <td>data engineer</td>\n",
       "      <td>600000.0</td>\n",
       "      <td>mgm@gmail.com</td>\n",
       "    </tr>\n",
       "    <tr>\n",
       "      <td>1</td>\n",
       "      <td>teradata</td>\n",
       "      <td>vivek</td>\n",
       "      <td>data analyst</td>\n",
       "      <td>700000.0</td>\n",
       "      <td>vkj@gmail.com</td>\n",
       "    </tr>\n",
       "    <tr>\n",
       "      <td>3</td>\n",
       "      <td>elastic run</td>\n",
       "      <td>meghana</td>\n",
       "      <td>data scientist</td>\n",
       "      <td>800000.0</td>\n",
       "      <td>mvj@yahoo.com</td>\n",
       "    </tr>\n",
       "    <tr>\n",
       "      <td>4</td>\n",
       "      <td>tech verito</td>\n",
       "      <td>vaibhavi</td>\n",
       "      <td>mbbs</td>\n",
       "      <td>900000.0</td>\n",
       "      <td>vvj@gmail.com</td>\n",
       "    </tr>\n",
       "  </tbody>\n",
       "</table>\n",
       "</div>"
      ],
      "text/plain": [
       "       company  emp_name             job    salary          email\n",
       "0   persistent   manisha   data engineer  600000.0  mgm@gmail.com\n",
       "1     teradata     vivek    data analyst  700000.0  vkj@gmail.com\n",
       "3  elastic run   meghana  data scientist  800000.0  mvj@yahoo.com\n",
       "4  tech verito  vaibhavi            mbbs  900000.0  vvj@gmail.com"
      ]
     },
     "execution_count": 31,
     "metadata": {},
     "output_type": "execute_result"
    }
   ],
   "source": [
    "data"
   ]
  },
  {
   "cell_type": "code",
   "execution_count": 34,
   "metadata": {},
   "outputs": [],
   "source": [
    "data.drop(columns =['job'],inplace=True)"
   ]
  },
  {
   "cell_type": "code",
   "execution_count": 35,
   "metadata": {},
   "outputs": [
    {
     "data": {
      "text/html": [
       "<div>\n",
       "<style scoped>\n",
       "    .dataframe tbody tr th:only-of-type {\n",
       "        vertical-align: middle;\n",
       "    }\n",
       "\n",
       "    .dataframe tbody tr th {\n",
       "        vertical-align: top;\n",
       "    }\n",
       "\n",
       "    .dataframe thead th {\n",
       "        text-align: right;\n",
       "    }\n",
       "</style>\n",
       "<table border=\"1\" class=\"dataframe\">\n",
       "  <thead>\n",
       "    <tr style=\"text-align: right;\">\n",
       "      <th></th>\n",
       "      <th>emp_name</th>\n",
       "      <th>salary</th>\n",
       "      <th>email</th>\n",
       "    </tr>\n",
       "  </thead>\n",
       "  <tbody>\n",
       "    <tr>\n",
       "      <td>0</td>\n",
       "      <td>manisha</td>\n",
       "      <td>600000.0</td>\n",
       "      <td>mgm@gmail.com</td>\n",
       "    </tr>\n",
       "    <tr>\n",
       "      <td>1</td>\n",
       "      <td>vivek</td>\n",
       "      <td>700000.0</td>\n",
       "      <td>vkj@gmail.com</td>\n",
       "    </tr>\n",
       "    <tr>\n",
       "      <td>3</td>\n",
       "      <td>meghana</td>\n",
       "      <td>800000.0</td>\n",
       "      <td>mvj@yahoo.com</td>\n",
       "    </tr>\n",
       "    <tr>\n",
       "      <td>4</td>\n",
       "      <td>vaibhavi</td>\n",
       "      <td>900000.0</td>\n",
       "      <td>vvj@gmail.com</td>\n",
       "    </tr>\n",
       "  </tbody>\n",
       "</table>\n",
       "</div>"
      ],
      "text/plain": [
       "   emp_name    salary          email\n",
       "0   manisha  600000.0  mgm@gmail.com\n",
       "1     vivek  700000.0  vkj@gmail.com\n",
       "3   meghana  800000.0  mvj@yahoo.com\n",
       "4  vaibhavi  900000.0  vvj@gmail.com"
      ]
     },
     "execution_count": 35,
     "metadata": {},
     "output_type": "execute_result"
    }
   ],
   "source": [
    "data"
   ]
  }
 ],
 "metadata": {
  "kernelspec": {
   "display_name": "Python 3",
   "language": "python",
   "name": "python3"
  },
  "language_info": {
   "codemirror_mode": {
    "name": "ipython",
    "version": 3
   },
   "file_extension": ".py",
   "mimetype": "text/x-python",
   "name": "python",
   "nbconvert_exporter": "python",
   "pygments_lexer": "ipython3",
   "version": "3.7.4"
  }
 },
 "nbformat": 4,
 "nbformat_minor": 2
}
